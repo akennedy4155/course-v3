{
 "cells": [
  {
   "cell_type": "code",
   "execution_count": 8,
   "metadata": {},
   "outputs": [
    {
     "name": "stdout",
     "output_type": "stream",
     "text": [
      "31.997255563735962\n",
      "0.11918497085571289\n"
     ]
    }
   ],
   "source": [
    "import torch\n",
    "import time\n",
    "\n",
    "def test_cpu(dim):\n",
    "    start_time = time.time()\n",
    "    a = torch.ones(dim,dim)\n",
    "    for _ in range(1000):\n",
    "        a += a\n",
    "    return time.time() - start_time\n",
    "\n",
    "def test_gpu(dim):\n",
    "    start_time = time.time()\n",
    "    b = torch.ones(dim, dim).cuda()\n",
    "    for _ in range(1000):\n",
    "        b += b\n",
    "    return time.time() - start_time\n",
    "\n",
    "print(test_cpu(10_000))\n",
    "print(test_gpu(10_000))"
   ]
  },
  {
   "cell_type": "code",
   "execution_count": 2,
   "metadata": {},
   "outputs": [],
   "source": [
    "import zipfile as zf\n",
    "files = zf.ZipFile('course-v3-master.zip', 'r')\n",
    "files.extractall('.')\n",
    "files.close()"
   ]
  }
 ],
 "metadata": {
  "kernelspec": {
   "display_name": "Python 3",
   "language": "python",
   "name": "python3"
  },
  "language_info": {
   "codemirror_mode": {
    "name": "ipython",
    "version": 3
   },
   "file_extension": ".py",
   "mimetype": "text/x-python",
   "name": "python",
   "nbconvert_exporter": "python",
   "pygments_lexer": "ipython3",
   "version": "3.8.2"
  }
 },
 "nbformat": 4,
 "nbformat_minor": 4
}
